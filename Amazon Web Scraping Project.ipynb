{
 "cells": [
  {
   "cell_type": "markdown",
   "id": "9cc59a04-af36-4f07-bc01-46f796b3e0e7",
   "metadata": {},
   "source": [
    "# Import Libraries and Tools"
   ]
  },
  {
   "cell_type": "code",
   "execution_count": 10,
   "id": "211e261a-8e97-444c-9acc-0f9107816407",
   "metadata": {},
   "outputs": [],
   "source": [
    "# Import any libraries that you will use\n",
    "\n",
    "from bs4 import BeautifulSoup\n",
    "import requests\n",
    "import smtplib\n",
    "import time\n",
    "import datetime"
   ]
  },
  {
   "cell_type": "code",
   "execution_count": 11,
   "id": "4e0232cf-5f9c-4f4e-8cbf-795b574f2c20",
   "metadata": {},
   "outputs": [],
   "source": [
    "# Connect to Website that you want to scraping"
   ]
  },
  {
   "cell_type": "code",
   "execution_count": 12,
   "id": "76c6f6c4-6b3e-417a-a5cc-b6df890ec30f",
   "metadata": {},
   "outputs": [],
   "source": [
    "URL = 'https://www.amazon.com/Funny-Data-Systems-Business-Analyst/dp/B07FNW9FGJ/ref=sr_1_3?dchild=1&keywords=data%2Banalyst%2Btshirt&qid=1626655184&sr=8-3&customId=B0752XJYNL&th=1'\n",
    "page = requests.get(URL)\n",
    "soup1 = BeautifulSoup(page.content, 'html.parser')\n",
    "soup2 = BeautifulSoup(soup1.prettify(), 'html.parser')"
   ]
  },
  {
   "cell_type": "markdown",
   "id": "a20f02fa-08cf-41fa-b936-9dfbfabb901c",
   "metadata": {},
   "source": [
    "# Scraping the Data"
   ]
  },
  {
   "cell_type": "code",
   "execution_count": 13,
   "id": "f57116d4-f9fe-4f7d-bb9e-7f916bda3f54",
   "metadata": {},
   "outputs": [
    {
     "name": "stdout",
     "output_type": "stream",
     "text": [
      "\n",
      "                   Funny Got Data MIS Data Systems Business Analyst T-Shirt\n",
      "                  \n",
      "$22.99\n"
     ]
    }
   ],
   "source": [
    "# OBJECTIVE: Scraping the data from the website\n",
    "\n",
    "title = soup2.find(id = 'productTitle').get_text()\n",
    "price_symbol = soup2.find(class_ ='a-price-symbol').get_text(strip = True)\n",
    "price_whole = soup2.find(class_ ='a-price-whole').get_text(strip = True)\n",
    "price_fraction = soup2.find(class_ ='a-price-fraction').get_text(strip = True)\n",
    "price = f'{price_symbol}{price_whole}{price_fraction}'\n",
    "\n",
    "print(title)\n",
    "print(price)"
   ]
  },
  {
   "cell_type": "code",
   "execution_count": 14,
   "id": "c2e14f12-9f15-4538-ae5b-cc4edc87ee82",
   "metadata": {},
   "outputs": [
    {
     "data": {
      "text/plain": [
       "str"
      ]
     },
     "execution_count": 14,
     "metadata": {},
     "output_type": "execute_result"
    }
   ],
   "source": [
    "# Checking the data type for the 'price'\n",
    "\n",
    "type(price)"
   ]
  },
  {
   "cell_type": "code",
   "execution_count": 15,
   "id": "404e05a4-5625-4915-b9b1-8fb5c0084eb2",
   "metadata": {},
   "outputs": [
    {
     "name": "stdout",
     "output_type": "stream",
     "text": [
      "Funny Got Data MIS Data Systems Business Analyst T-Shirt\n",
      "22.99\n"
     ]
    }
   ],
   "source": [
    "# Trimming the data to make it much cleaner \n",
    "\n",
    "price = price.strip()[1:]\n",
    "title = title.strip()\n",
    "print(title)\n",
    "print(price)\n"
   ]
  },
  {
   "cell_type": "markdown",
   "id": "60a4590f-c895-4963-9aea-ab375d4e3178",
   "metadata": {},
   "source": [
    "# Create CSV File"
   ]
  },
  {
   "cell_type": "code",
   "execution_count": 17,
   "id": "99f42c97-27f0-4830-ba65-d6a555a9d54a",
   "metadata": {},
   "outputs": [],
   "source": [
    "# OBJECTIVE: Create a CSV file\n",
    "    #ISSUE: There are exist file in the folder\n",
    "\n",
    "import csv\n",
    "import os\n",
    "\n",
    "    # FIX: Delete the existing file\n",
    "\n",
    "file_path = 'AmazonData2.csv'\n",
    "if os.path.exists(file_path):\n",
    "    os.remove(file_path)\n",
    "\n",
    "    # Done\n",
    "\n",
    "header = ['Title','Price']\n",
    "data = [title,price]\n",
    "\n",
    "with open('AmazonData2.csv','w', newline = '', encoding = 'UTF8') as f:\n",
    "    writer = csv.writer(f)\n",
    "    writer.writerow(header)\n",
    "    writer.writerow(data)\n"
   ]
  },
  {
   "cell_type": "code",
   "execution_count": 18,
   "id": "224dbf74-a71c-4072-8be8-36aff5666755",
   "metadata": {},
   "outputs": [
    {
     "name": "stdout",
     "output_type": "stream",
     "text": [
      "2024-10-20\n"
     ]
    }
   ],
   "source": [
    "# OBJECTIVE: Create 'Datetime' data\n",
    "\n",
    "today = datetime.date.today()\n",
    "\n",
    "print(today)"
   ]
  },
  {
   "cell_type": "code",
   "execution_count": 19,
   "id": "bb55e396-4cab-4032-a7f3-b494f0876fd9",
   "metadata": {},
   "outputs": [],
   "source": [
    "# OBJECTIVE: Add 'Datetime' into the table\n",
    "\n",
    "import csv\n",
    "\n",
    "header = ['Title','Price','Date']\n",
    "data = [title,price,today]\n",
    "\n",
    "with open('AmazonData2.csv','w', newline = '', encoding = 'UTF8') as f:\n",
    "    writer = csv.writer(f)\n",
    "    writer.writerow(header)\n",
    "    writer.writerow(data)\n"
   ]
  },
  {
   "cell_type": "code",
   "execution_count": 21,
   "id": "0160ab3d-d0bf-4678-9040-e7d47e0be84c",
   "metadata": {},
   "outputs": [
    {
     "name": "stdout",
     "output_type": "stream",
     "text": [
      "                                               Title  Price        Date\n",
      "0  Funny Got Data MIS Data Systems Business Analy...  22.99  2024-10-20\n"
     ]
    }
   ],
   "source": [
    "# OBJECTIVE: Checking the data whether it is successful or not\n",
    "\n",
    "import pandas as pd\n",
    "df = pd.read_csv(r\"C:\\Users\\Takeo\\OneDrive\\Data Analysis Portfolio\\Project Portfolio\\Amazon Tutorial Project\\AmazonData2.csv\")\n",
    "print(df)"
   ]
  },
  {
   "cell_type": "markdown",
   "id": "2eefdb11-0736-495d-88ef-fcfdc5b9f04e",
   "metadata": {},
   "source": [
    "# Automate the Data"
   ]
  },
  {
   "cell_type": "code",
   "execution_count": 22,
   "id": "d88e539e-04cd-42d2-aa25-db1242bff284",
   "metadata": {},
   "outputs": [],
   "source": [
    "# OBJECTIVE: Appending data into CSV\n",
    "\n",
    "with open('AmazonData2.csv','a+', newline = '', encoding = 'UTF8') as f:\n",
    "    writer = csv.writer(f)\n",
    "    writer.writerow(data)"
   ]
  },
  {
   "cell_type": "code",
   "execution_count": 112,
   "id": "595b2fbc-3967-49de-8e43-6aafee23c48f",
   "metadata": {},
   "outputs": [],
   "source": [
    "# Create a timer"
   ]
  },
  {
   "cell_type": "code",
   "execution_count": 23,
   "id": "48846050-b0c1-48ba-8f33-e8f46c37efa2",
   "metadata": {},
   "outputs": [],
   "source": [
    "# OBJECTIVE: Automate the data by creating a timer\n",
    "\n",
    "def check_price():\n",
    "    URL = 'https://www.amazon.com/Funny-Data-Systems-Business-Analyst/dp/B07FNW9FGJ/ref=sr_1_3?dchild=1&keywords=data%2Banalyst%2Btshirt&qid=1626655184&sr=8-3&customId=B0752XJYNL&th=1'\n",
    "    page = requests.get(URL)\n",
    "    soup1 = BeautifulSoup(page.content, 'html.parser')\n",
    "    soup2 = BeautifulSoup(soup1.prettify(), 'html.parser')\n",
    "    title = soup2.find(id = 'productTitle').get_text()\n",
    "    price_symbol = soup2.find(class_ ='a-price-symbol').get_text(strip = True)\n",
    "    price_whole = soup2.find(class_ ='a-price-whole').get_text(strip = True)\n",
    "    price_fraction = soup2.find(class_ ='a-price-fraction').get_text(strip = True)\n",
    "    price = f'{price_symbol}{price_whole}{price_fraction}'\n",
    "\n",
    "    price = price.strip()[1:]\n",
    "    title = title.strip()\n",
    "\n",
    "    import datetime\n",
    "    today = datetime.date.today()\n",
    "\n",
    "    import csv\n",
    "\n",
    "    header = ['Title','Price','Date']\n",
    "    data = [title,price,today]\n",
    "\n",
    "    with open('AmazonData2.csv','a+', newline = '', encoding = 'UTF8') as f:\n",
    "        writer = csv.writer(f)\n",
    "        writer.writerow(data)"
   ]
  },
  {
   "cell_type": "code",
   "execution_count": null,
   "id": "f51a1f4c-a733-4ee8-a8c7-11d54f022205",
   "metadata": {},
   "outputs": [],
   "source": [
    "# OBJECTIVE: Set a specific how much time to run the process\n",
    "\n",
    "while(True):\n",
    "    check_price()\n",
    "    time.sleep(86400) # 86400 by seconds"
   ]
  },
  {
   "cell_type": "code",
   "execution_count": null,
   "id": "884c513d-4f55-4039-bc48-2981ef3a4172",
   "metadata": {
    "scrolled": true
   },
   "outputs": [],
   "source": [
    "# OBJECTIVE: Check the CSV to monitor the process\n",
    "\n",
    "import pandas as pd\n",
    "df = pd.read_csv(r\"C:\\Users\\Takeo\\OneDrive\\Data Analysis Portfolio\\Project Portfolio\\Amazon Tutorial Project\\AmazonData2.csv\")\n",
    "print(df)"
   ]
  },
  {
   "cell_type": "code",
   "execution_count": null,
   "id": "e561bec0-2385-4f8f-9332-3945be79b580",
   "metadata": {},
   "outputs": [],
   "source": [
    "# END OF THE PROJECT!"
   ]
  },
  {
   "cell_type": "markdown",
   "id": "5a1a4267-d652-4035-b15d-fc70b80d8570",
   "metadata": {},
   "source": [
    "# Bonus: Notify into Email"
   ]
  },
  {
   "cell_type": "code",
   "execution_count": null,
   "id": "08c7b370-1afd-46e7-b18b-587db6f09e68",
   "metadata": {},
   "outputs": [],
   "source": [
    "# OBJECTIVE: Sending the notification into your own email\n",
    "\n",
    "def send_mail():\n",
    "    server = smtplib.SMTP_SSL('smtp.gmail.com',465)\n",
    "    server.ehlo()\n",
    "    #server.starttls()\n",
    "    server.ehlo()\n",
    "    server.login('syahmirsupardi.com','xxxxxxxxxxxxxx') # Your email and your password. REMINDER: Do not share your password in the public access!\n",
    "    \n",
    "    subject = \"The Shirt you want is below $15! Now is your chance to buy!\"\n",
    "    body = \"Takeo, This is the moment we have been waiting for. Now is your chance to pick up the shirt of your dreams. Don't mess it up! Link here: https://www.amazon.com/Funny-Data-Systems-Business-Analyst/dp/B07FNW9FGJ/ref=sr_1_3?dchild=1&keywords=data+analyst+tshirt&qid=1626655184&sr=8-3\"\n",
    "   \n",
    "    msg = f\"Subject: {subject}\\n\\n{body}\"\n",
    "    \n",
    "    server.sendmail(\n",
    "        'Syahmirsupardi@gmail.com',\n",
    "        msg\n",
    "     \n",
    "    )"
   ]
  }
 ],
 "metadata": {
  "kernelspec": {
   "display_name": "Python 3 (ipykernel)",
   "language": "python",
   "name": "python3"
  },
  "language_info": {
   "codemirror_mode": {
    "name": "ipython",
    "version": 3
   },
   "file_extension": ".py",
   "mimetype": "text/x-python",
   "name": "python",
   "nbconvert_exporter": "python",
   "pygments_lexer": "ipython3",
   "version": "3.12.4"
  }
 },
 "nbformat": 4,
 "nbformat_minor": 5
}
